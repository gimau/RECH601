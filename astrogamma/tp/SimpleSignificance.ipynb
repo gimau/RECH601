{
 "cells": [
  {
   "cell_type": "code",
   "execution_count": 1,
   "metadata": {},
   "outputs": [
    {
     "name": "stdout",
     "output_type": "stream",
     "text": [
      "Renseigner le nombre d'événement ON, Non\n",
      "Renseigner le nombre d'événement Off, Noff\n",
      "Renseigner le nombre de region OFF utilisé, nb_regions\n"
     ]
    }
   ],
   "source": [
    "print(\"Renseigner le nombre d'événement ON, Non\")\n",
    "print(\"Renseigner le nombre d'événement Off, Noff\")\n",
    "print(\"Renseigner le nombre de region OFF utilisé, nb_regions\")"
   ]
  },
  {
   "cell_type": "code",
   "execution_count": 2,
   "metadata": {},
   "outputs": [],
   "source": [
    "Non = 1433\n",
    "Noff = 725+690+624\n",
    "nb_regions = 3"
   ]
  },
  {
   "cell_type": "code",
   "execution_count": 3,
   "metadata": {},
   "outputs": [],
   "source": [
    "mu_bk = Noff*nb_regions"
   ]
  },
  {
   "cell_type": "code",
   "execution_count": 5,
   "metadata": {},
   "outputs": [],
   "source": [
    "#Calcul la significativite\n",
    "import numpy as np\n",
    "lima = np.sqrt(2* Non *np.log(Non/mu_bk) - Non + mu_bk)"
   ]
  },
  {
   "cell_type": "code",
   "execution_count": 6,
   "metadata": {},
   "outputs": [
    {
     "name": "stdout",
     "output_type": "stream",
     "text": [
      "Non = 1433\n",
      "Noff = 2039\n",
      "Nb region = 3\n",
      "Significance = 22.903482799922582\n"
     ]
    }
   ],
   "source": [
    "#Print les resultats\n",
    "print(\"Non = \" + str(Non))\n",
    "print(\"Noff = \" + str(Noff))\n",
    "print(\"Nb region = \" + str(nb_regions))\n",
    "print(\"Significance = \" + str(lima))"
   ]
  },
  {
   "cell_type": "code",
   "execution_count": null,
   "metadata": {},
   "outputs": [],
   "source": []
  }
 ],
 "metadata": {
  "kernelspec": {
   "display_name": "Python 3",
   "language": "python",
   "name": "python3"
  },
  "language_info": {
   "codemirror_mode": {
    "name": "ipython",
    "version": 3
   },
   "file_extension": ".py",
   "mimetype": "text/x-python",
   "name": "python",
   "nbconvert_exporter": "python",
   "pygments_lexer": "ipython3",
   "version": "3.7.4"
  }
 },
 "nbformat": 4,
 "nbformat_minor": 4
}
