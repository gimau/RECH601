{
 "cells": [
  {
   "cell_type": "code",
   "execution_count": 8,
   "metadata": {},
   "outputs": [
    {
     "data": {
      "image/png": "[encoded data removed]",
      "text/plain": [
       "<Figure size 432x288 with 1 Axes>"
      ]
     },
     "metadata": {
      "needs_background": "light"
     },
     "output_type": "display_data"
    }
   ],
   "source": [
    "#! /usr/bin/env python\n",
    "from astropy.io import fits\n",
    "import matplotlib.pyplot as plt\n",
    "\n",
    "data = fits.open('spectrum.fits')\n",
    "\n",
    "emin=[]\n",
    "emax=[]\n",
    "emoy=[]\n",
    "flux=[]\n",
    "errflux=[]\n",
    "\n",
    "for i in range(0,len(data[1].data)):\n",
    "    emin.append(data[1].data[i][1])\n",
    "    emax.append(data[1].data[i][2])\n",
    "    emoy.append(data[1].data[i][0])\n",
    "    flux.append(data[1].data[i][3])\n",
    "    errflux.append(data[1].data[i][4])\n",
    "\n",
    "plt.figure()\n",
    "plt.loglog()\n",
    "plt.grid()\n",
    "plt.errorbar(emoy, flux, yerr=errflux, xerr=[emin, emax], fmt='ro')\n",
    "plt.plot([0.137, 0.611, 2.735], [5.3e-9*0.0016, 3.8e-10*0.0016, 2.6e-10*0.0016], '.')\n",
    "plt.xlabel('Energy (TeV)')\n",
    "plt.ylabel(r'E$^2$ $\\times$ dN/dE (erg cm$^{-2}$ s$^{-1}$)')\n",
    "\n",
    "# Show figure\n",
    "\n",
    "plt.show()\n"
   ]
  },
  {
   "cell_type": "code",
   "execution_count": 38,
   "metadata": {},
   "outputs": [
    {
     "data": {
      "image/png": "[encoded data removed]",
      "text/plain": [
       "<Figure size 432x288 with 1 Axes>"
      ]
     },
     "metadata": {
      "needs_background": "light"
     },
     "output_type": "display_data"
    }
   ],
   "source": [
    "#! /usr/bin/env python\n",
    "from astropy.io import fits\n",
    "import matplotlib.pyplot as plt\n",
    "\n",
    "data= fits.open('lightcurve.fits')\n",
    "mjd       = []\n",
    "e_mjd     = []\n",
    "flux      = []\n",
    "e_flux    = []\n",
    "\n",
    "for i in range(0,len(data[1].data)):\n",
    "    mjd.append(data[1].data[i][0])\n",
    "    e_mjd.append(data[1].data[i][1])\n",
    "    flux.append(data[1].data[i][8])\n",
    "    e_flux.append(data[1].data[i][9])\n",
    "\n",
    "# Plot the spectrum \n",
    "plt.figure()\n",
    "plt.semilogy()\n",
    "plt.grid()\n",
    "plt.errorbar(mjd, flux, yerr=e_flux, xerr=[e_mjd, e_mjd],\n",
    "                 fmt='ro')\n",
    "\n",
    "plt.xlabel('MJD (days)')\n",
    "plt.ylabel(r'dN/dE (erg cm$^{-2}$ s$^{-1}$)')\n",
    "plt.show()\n"
   ]
  },
  {
   "cell_type": "code",
   "execution_count": 39,
   "metadata": {},
   "outputs": [
    {
     "data": {
      "image/png": "[encoded data removed]",
      "text/plain": [
       "<Figure size 432x288 with 1 Axes>"
      ]
     },
     "metadata": {
      "needs_background": "light"
     },
     "output_type": "display_data"
    }
   ],
   "source": [
    "#! /usr/bin/env python\n",
    "from astropy.io import fits\n",
    "import matplotlib.pyplot as plt\n",
    "\n",
    "data= fits.open('lightcurve2.fits')\n",
    "mjd       = []\n",
    "e_mjd     = []\n",
    "flux      = []\n",
    "e_flux    = []\n",
    "\n",
    "for i in range(0,len(data[1].data)):\n",
    "    mjd.append(data[1].data[i][0])\n",
    "    e_mjd.append(data[1].data[i][1])\n",
    "    flux.append(data[1].data[i][8])\n",
    "    e_flux.append(data[1].data[i][9])\n",
    "\n",
    "# Plot the spectrum \n",
    "plt.figure()\n",
    "plt.semilogy()\n",
    "plt.grid()\n",
    "plt.errorbar(mjd, flux, yerr=e_flux, xerr=[e_mjd, e_mjd],\n",
    "                 fmt='ro')\n",
    "\n",
    "plt.xlabel('MJD (days)')\n",
    "plt.ylabel(r'dN/dE (erg cm$^{-2}$ s$^{-1}$)')\n",
    "plt.show()\n"
   ]
  },
  {
   "cell_type": "code",
   "execution_count": 40,
   "metadata": {},
   "outputs": [
    {
     "data": {
      "text/plain": [
       "[1.6084388994451228e-10, 1.843936178519097e-10, 2.2695532114813361e-10]"
      ]
     },
     "execution_count": 40,
     "metadata": {},
     "output_type": "execute_result"
    }
   ],
   "source": [
    "flux"
   ]
  },
  {
   "cell_type": "code",
   "execution_count": 41,
   "metadata": {},
   "outputs": [
    {
     "data": {
      "text/plain": [
       "[2.7078200414734837e-11, 3.104281636756319e-11, 3.8208113925619124e-11]"
      ]
     },
     "execution_count": 41,
     "metadata": {},
     "output_type": "execute_result"
    }
   ],
   "source": [
    "e_flux"
   ]
  },
  {
   "cell_type": "code",
   "execution_count": 42,
   "metadata": {},
   "outputs": [
    {
     "data": {
      "text/plain": [
       "[59215.51389101851, 59215.54166879629, 59215.56944550926]"
      ]
     },
     "execution_count": 42,
     "metadata": {},
     "output_type": "execute_result"
    }
   ],
   "source": [
    "mjd"
   ]
  },
  {
   "cell_type": "code",
   "execution_count": 43,
   "metadata": {},
   "outputs": [
    {
     "data": {
      "text/plain": [
       "[0.013888888886129415, 0.013888888890958495, 0.013887824074675639]"
      ]
     },
     "execution_count": 43,
     "metadata": {},
     "output_type": "execute_result"
    }
   ],
   "source": [
    "e_mjd"
   ]
  },
  {
   "cell_type": "code",
   "execution_count": null,
   "metadata": {},
   "outputs": [],
   "source": []
  },
  {
   "cell_type": "code",
   "execution_count": null,
   "metadata": {},
   "outputs": [],
   "source": []
  },
  {
   "cell_type": "code",
   "execution_count": null,
   "metadata": {},
   "outputs": [],
   "source": []
  }
 ],
 "metadata": {
  "kernelspec": {
   "display_name": "Python 3",
   "language": "python",
   "name": "python3"
  },
  "language_info": {
   "codemirror_mode": {
    "name": "ipython",
    "version": 3
   },
   "file_extension": ".py",
   "mimetype": "text/x-python",
   "name": "python",
   "nbconvert_exporter": "python",
   "pygments_lexer": "ipython3",
   "version": "3.7.7"
  }
 },
 "nbformat": 4,
 "nbformat_minor": 4
}
