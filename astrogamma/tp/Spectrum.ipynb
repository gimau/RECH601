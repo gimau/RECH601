{
 "cells": [
  {
   "cell_type": "code",
   "execution_count": null,
   "metadata": {},
   "outputs": [],
   "source": [
    "print(\"Renseigner le chemin du fichier spectrum.fits\")"
   ]
  },
  {
   "cell_type": "code",
   "execution_count": null,
   "metadata": {},
   "outputs": [],
   "source": [
    "from astropy.io import fits\n",
    "fileData = '/Users/davidsanchez/work/Studen/TP_CTA_2020/TPAstro/git_tp/David/spectrum.fits'\n",
    "\n",
    "import os.path\n",
    "print(fileData)\n",
    "if (os.path.exists(fileData)):\n",
    "    print('Le fichier est présent')\n",
    "else:\n",
    "    print(\"Le fichier est faux\")\n",
    "data= fits.open(fileData)\n"
   ]
  },
  {
   "cell_type": "code",
   "execution_count": null,
   "metadata": {},
   "outputs": [],
   "source": [
    "#! /usr/bin/env python\n",
    "\n",
    "import matplotlib.pyplot as plt\n",
    "\n",
    "\n",
    "\n",
    "emin=[]\n",
    "emax=[]\n",
    "emoy=[]\n",
    "flux=[]\n",
    "errflux=[]\n",
    "intflux = []\n",
    "errintflux = []\n",
    "\n",
    "for i in range(0,len(data[1].data)):\n",
    "    emin.append(data[1].data[i][1])\n",
    "    emax.append(data[1].data[i][2])\n",
    "    emoy.append(data[1].data[i][0])\n",
    "    flux.append(data[1].data[i][3])\n",
    "    errflux.append(data[1].data[i][4])\n",
    "\n",
    "    \n",
    "    dnde = flux[i]/1.602/emoy[i]**2\n",
    "    intflux.append((emax[i]**-1.5-emin[i]**-1.5)/(-1.5)*dnde/(emoy[i]**-2.5))\n",
    "    errintflux.append(intflux[i]*errflux[i]/flux[i])\n",
    "\n",
    "plt.figure()\n",
    "plt.loglog()\n",
    "plt.grid()\n",
    "plt.errorbar(emoy, intflux, yerr=errintflux, xerr=[emin, emax], fmt='ro')\n",
    "plt.xlabel('Energy (TeV)')\n",
    "plt.ylabel(r'E$^2$ $\\times$ dN/dE (erg cm$^{-2}$ s$^{-1}$)')\n",
    "\n",
    "# Show figure\n",
    "plt.show()"
   ]
  },
  {
   "cell_type": "code",
   "execution_count": null,
   "metadata": {},
   "outputs": [],
   "source": [
    "print(\"Energie (TeV)  Flux +/- dFlux (photon/cm*2/s)\")\n",
    "for i in range(len(flux)):\n",
    "    print(emoy[i],intflux[i],errintflux[i])"
   ]
  },
  {
   "cell_type": "code",
   "execution_count": null,
   "metadata": {},
   "outputs": [],
   "source": []
  }
 ],
 "metadata": {
  "kernelspec": {
   "display_name": "Python 3",
   "language": "python",
   "name": "python3"
  },
  "language_info": {
   "codemirror_mode": {
    "name": "ipython",
    "version": 3
   },
   "file_extension": ".py",
   "mimetype": "text/x-python",
   "name": "python",
   "nbconvert_exporter": "python",
   "pygments_lexer": "ipython3",
   "version": "3.7.3"
  }
 },
 "nbformat": 4,
 "nbformat_minor": 4
}
