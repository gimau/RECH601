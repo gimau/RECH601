{
 "cells": [
  {
   "cell_type": "code",
   "execution_count": 10,
   "metadata": {},
   "outputs": [
    {
     "name": "stdout",
     "output_type": "stream",
     "text": [
      "Renseigner le chemin du fichier spectrum.fits\n"
     ]
    }
   ],
   "source": [
    "print(\"Renseigner le chemin du fichier spectrum.fits\")"
   ]
  },
  {
   "cell_type": "code",
   "execution_count": 11,
   "metadata": {},
   "outputs": [],
   "source": [
    "from astropy.io import fits\n",
    "data = fits.open('/Users/davidsanchez/work/Studen/TP_CTA_2020/TPAstro/git_tp/David/spectrum.fits')"
   ]
  },
  {
   "cell_type": "code",
   "execution_count": 23,
   "metadata": {},
   "outputs": [
    {
     "data": {
      "image/png": "[encoded data removed]",
      "text/plain": [
       "<Figure size 432x288 with 1 Axes>"
      ]
     },
     "metadata": {
      "needs_background": "light"
     },
     "output_type": "display_data"
    }
   ],
   "source": [
    "#! /usr/bin/env python\n",
    "\n",
    "import matplotlib.pyplot as plt\n",
    "\n",
    "\n",
    "\n",
    "emin=[]\n",
    "emax=[]\n",
    "emoy=[]\n",
    "flux=[]\n",
    "errflux=[]\n",
    "intflux = []\n",
    "\n",
    "for i in range(0,len(data[1].data)):\n",
    "    emin.append(data[1].data[i][1])\n",
    "    emax.append(data[1].data[i][2])\n",
    "    emoy.append(data[1].data[i][0])\n",
    "    flux.append(data[1].data[i][3])\n",
    "    errflux.append(data[1].data[i][4])\n",
    "\n",
    "    \n",
    "    dnde = flux[i]/1.602/emoy[i]**2\n",
    "    intflux.append((emax[i]**-1.5-emin[i]**-1.5)/(-1.5)*dnde/(emoy[i]**-2.5))\n",
    "    errintflux = intflux[i]*errflux[i]/flux[i]\n",
    "\n",
    "plt.figure()\n",
    "plt.loglog()\n",
    "plt.grid()\n",
    "plt.errorbar(emoy, intflux, yerr=errintflux, xerr=[emin, emax], fmt='ro')\n",
    "plt.xlabel('Energy (TeV)')\n",
    "plt.ylabel(r'E$^2$ $\\times$ dN/dE (erg cm$^{-2}$ s$^{-1}$)')\n",
    "\n",
    "# Show figure\n",
    "plt.show()"
   ]
  },
  {
   "cell_type": "code",
   "execution_count": 21,
   "metadata": {},
   "outputs": [
    {
     "name": "stdout",
     "output_type": "stream",
     "text": [
      "Energie (TeV)  Flux +/- dFlux (ergs/cm*2/s)\n",
      "0.10573712634405638 5.0744367016776106e-11 5.079998853516575e-13\n",
      "0.47287080450158786 5.480283005105938e-12 2.2976132811396264e-13\n",
      "2.1147425268811286 5.50957433835557e-13 1.5423039644500875e-13\n",
      "9.45741609003176 5.404253006753941e-14 1.49204633874558e-13\n"
     ]
    }
   ],
   "source": [
    "print(\"Energie (TeV)  Flux +/- dFlux (photon/cm*2/s)\")\n",
    "for i in range(len(flux)):\n",
    "    print(emoy[i],intflux[i],errintflux[i])"
   ]
  }
 ],
 "metadata": {
  "kernelspec": {
   "display_name": "Python 3",
   "language": "python",
   "name": "python3"
  },
  "language_info": {
   "codemirror_mode": {
    "name": "ipython",
    "version": 3
   },
   "file_extension": ".py",
   "mimetype": "text/x-python",
   "name": "python",
   "nbconvert_exporter": "python",
   "pygments_lexer": "ipython3",
   "version": "3.7.4"
  }
 },
 "nbformat": 4,
 "nbformat_minor": 4
}
