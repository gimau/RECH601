{
 "cells": [
  {
   "cell_type": "code",
   "execution_count": 3,
   "metadata": {},
   "outputs": [
    {
     "name": "stdout",
     "output_type": "stream",
     "text": [
      "Indice = 0.5232093929133377 +- 0.0012314114226591993\n",
      "Norme = 2.3638114819461263e-12 + -  1.630063372975489e-26 erg cm^-2 s^-1\n"
     ]
    }
   ],
   "source": [
    "import numpy,scipy.optimize\n",
    "import matplotlib.pyplot as plt\n",
    "\n",
    "#Quelques exemples de fonctions utilisee pour le fit des donnees\n",
    "powerlaw = lambda x,norm,index, : norm * (x / 1.) ** (-index / 1.) \n",
    "\n",
    "#################################################### Donnees a remplir ###################################################\n",
    "\n",
    "#Source 1\n",
    "x = [] # TeV\n",
    "err_x = [] # TeV\n",
    "y = [] # erg cm-2 s-1\n",
    "err_y = [] # erg cm-2 s-1\n",
    "\n",
    "########################################## Ajustement et graphique #####################################################\n",
    "\n",
    "popt, pcov = scipy.optimize.curve_fit(powerlaw, x, y, p0=[1e-13,2.51],sigma=err_y)\n",
    "\n",
    "#Print les resultats\n",
    "print(\"Indice = \" + str(popt[1]) + \" +- \"+ str(pcov[1][1]))\n",
    "print(\"Norme = \" + str(popt[0]) + \" + -  \"+ str(pcov[0][0])+ \" erg cm^-2 s^-1\")\n"
   ]
  },
  {
   "cell_type": "code",
   "execution_count": null,
   "metadata": {},
   "outputs": [],
   "source": []
  }
 ],
 "metadata": {
  "kernelspec": {
   "display_name": "Python 3",
   "language": "python",
   "name": "python3"
  },
  "language_info": {
   "codemirror_mode": {
    "name": "ipython",
    "version": 3
   },
   "file_extension": ".py",
   "mimetype": "text/x-python",
   "name": "python",
   "nbconvert_exporter": "python",
   "pygments_lexer": "ipython3",
   "version": "3.7.7"
  }
 },
 "nbformat": 4,
 "nbformat_minor": 4
}
