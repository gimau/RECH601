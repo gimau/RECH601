{
 "cells": [
  {
   "cell_type": "code",
   "execution_count": 5,
   "metadata": {},
   "outputs": [
    {
     "name": "stdout",
     "output_type": "stream",
     "text": [
      "Renseigner le chemin du fichier onoff_pha_on.fits \n",
      "Renseigner le chemin du fichier onoff_pha_off.fits \n",
      "Renseigner le chemin du fichier onoff_off.reg \n"
     ]
    }
   ],
   "source": [
    "print(\"Renseigner le chemin du fichier onoff_pha_on.fits \")\n",
    "print(\"Renseigner le chemin du fichier onoff_pha_off.fits \")\n",
    "print(\"Renseigner le chemin du fichier onoff_off.reg \")"
   ]
  },
  {
   "cell_type": "code",
   "execution_count": 6,
   "metadata": {},
   "outputs": [],
   "source": [
    "fichON = '/Users/davidsanchez/work/Studen/TP_CTA_2020/TPAstro/git_tp/David/onoff_pha_on.fits'\n",
    "fichOFF = '/Users/davidsanchez/work/Studen/TP_CTA_2020/TPAstro/git_tp/David/onoff_pha_off.fits'\n",
    "fichREG = '/Users/davidsanchez/work/Studen/TP_CTA_2020/TPAstro/git_tp/David/onoff_off.reg'"
   ]
  },
  {
   "cell_type": "code",
   "execution_count": 7,
   "metadata": {},
   "outputs": [],
   "source": [
    "import numpy as np\n",
    "from astropy.io import fits\n",
    "from libTP import wstat"
   ]
  },
  {
   "cell_type": "code",
   "execution_count": 8,
   "metadata": {},
   "outputs": [
    {
     "name": "stdout",
     "output_type": "stream",
     "text": [
      "Non = 1414.0\n",
      "Noff = 4831.0\n",
      "Nb region = 7\n",
      "Significance = 22.13016743140513\n"
     ]
    }
   ],
   "source": [
    "#Lit les donnees\n",
    "on_file = fits.open(fichON)\n",
    "off_file = fits.open(fichOFF)\n",
    "nOn = 0\n",
    "nOff = 0\n",
    "j=0\n",
    "with open(fichREG, 'r') as fd:\n",
    "    for line in fd:\n",
    "        j= j +1\n",
    "        \n",
    "for i in range(0,len(on_file[1].data)):\n",
    "    nOn = nOn+on_file[1].data[i][1]\n",
    "    nOff = nOff +off_file[1].data[i][1]\n",
    "nb_regions = j -2\n",
    "mu_bk = nOff/nb_regions\n",
    "\n",
    "alpha = 1./float(nb_regions)\n",
    "excess = nOn-(nOff*alpha)\n",
    "TS_null = wstat(nOn, nOff, alpha, 0)\n",
    "TS_max = wstat(nOn, nOff, alpha, excess)\n",
    "delta_ts = np.clip(TS_null - TS_max, 0, None)\n",
    "signi = (np.sign(excess) * np.sqrt(delta_ts))[0]\n",
    "\n",
    "#Print les resultats\n",
    "print(\"Non = \" + str(nOn))\n",
    "print(\"Noff = \" + str(nOff))\n",
    "print(\"Nb region = \" + str(nb_regions))\n",
    "print(\"Significance = \" + str(signi))"
   ]
  },
  {
   "cell_type": "code",
   "execution_count": null,
   "metadata": {},
   "outputs": [],
   "source": []
  }
 ],
 "metadata": {
  "kernelspec": {
   "display_name": "Python 3",
   "language": "python",
   "name": "python3"
  },
  "language_info": {
   "codemirror_mode": {
    "name": "ipython",
    "version": 3
   },
   "file_extension": ".py",
   "mimetype": "text/x-python",
   "name": "python",
   "nbconvert_exporter": "python",
   "pygments_lexer": "ipython3",
   "version": "3.7.4"
  }
 },
 "nbformat": 4,
 "nbformat_minor": 4
}
