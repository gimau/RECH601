{
 "cells": [
  {
   "cell_type": "code",
   "execution_count": null,
   "metadata": {},
   "outputs": [],
   "source": [
    "print(\"Renseigner le chemin du fichier onoff_pha_on.fits \")\n",
    "print(\"Renseigner le chemin du fichier onoff_pha_off.fits \")\n",
    "print(\"Renseigner le chemin du fichier onoff_off.reg \")"
   ]
  },
  {
   "cell_type": "code",
   "execution_count": null,
   "metadata": {},
   "outputs": [],
   "source": [
    "fichON = '/Users/davidsanchez/work/Studen/TP_CTA_2020/TPAstro/git_tp/David/onoff_pha_on.fits'\n",
    "fichOFF = '/Users/davidsanchez/work/Studen/TP_CTA_2020/TPAstro/git_tp/David/onoff_pha_off.fits'\n",
    "fichREG = '/Users/davidsanchez/work/Studen/TP_CTA_2020/TPAstro/git_tp/David/onoff_off.reg'\n",
    "\n",
    "\n",
    "import os.path\n",
    "if (os.path.exists(fichON)):\n",
    "    print('Le fichier '+fichON+' est présent')\n",
    "else:\n",
    "    print(\"Le fichier \"+fichON+\" est faux\")\n",
    "\n",
    "if (os.path.exists(fichOFF)):\n",
    "    print('Le fichier '+fichOFF+'est présent')\n",
    "else:\n",
    "    print(\"Le fichier \"+fichOFF+\" est faux\")\n",
    "    \n",
    "if (os.path.exists(fichREG)):\n",
    "    print('Le fichier '+fichREG+'est présent')\n",
    "else:\n",
    "    print(\"Le fichier \"+fichREG+\" est faux\")"
   ]
  },
  {
   "cell_type": "code",
   "execution_count": null,
   "metadata": {},
   "outputs": [],
   "source": [
    "import numpy as np\n",
    "from astropy.io import fits\n",
    "from libTP import wstat"
   ]
  },
  {
   "cell_type": "code",
   "execution_count": null,
   "metadata": {},
   "outputs": [],
   "source": [
    "#Lit les donnees\n",
    "on_file = fits.open(fichON)\n",
    "off_file = fits.open(fichOFF)\n",
    "nOn = 0\n",
    "nOff = 0\n",
    "j=0\n",
    "with open(fichREG, 'r') as fd:\n",
    "    for line in fd:\n",
    "        j= j +1\n",
    "        \n",
    "for i in range(0,len(on_file[1].data)):\n",
    "    nOn = nOn+on_file[1].data[i][1]\n",
    "    nOff = nOff +off_file[1].data[i][1]\n",
    "nb_regions = j -2\n",
    "mu_bk = nOff/nb_regions\n",
    "\n",
    "alpha = 1./float(nb_regions)\n",
    "excess = nOn-(nOff*alpha)\n",
    "TS_null = wstat(nOn, nOff, alpha, 0)\n",
    "TS_max = wstat(nOn, nOff, alpha, excess)\n",
    "delta_ts = np.clip(TS_null - TS_max, 0, None)\n",
    "signi = (np.sign(excess) * np.sqrt(delta_ts))[0]\n",
    "\n",
    "#Print les resultats\n",
    "print(\"Non = \" + str(nOn))\n",
    "print(\"Noff = \" + str(nOff))\n",
    "print(\"Nb region = \" + str(nb_regions))\n",
    "print(\"Significance = \" + str(signi))"
   ]
  },
  {
   "cell_type": "code",
   "execution_count": null,
   "metadata": {},
   "outputs": [],
   "source": []
  }
 ],
 "metadata": {
  "kernelspec": {
   "display_name": "Python 3",
   "language": "python",
   "name": "python3"
  },
  "language_info": {
   "codemirror_mode": {
    "name": "ipython",
    "version": 3
   },
   "file_extension": ".py",
   "mimetype": "text/x-python",
   "name": "python",
   "nbconvert_exporter": "python",
   "pygments_lexer": "ipython3",
   "version": "3.7.3"
  }
 },
 "nbformat": 4,
 "nbformat_minor": 4
}
